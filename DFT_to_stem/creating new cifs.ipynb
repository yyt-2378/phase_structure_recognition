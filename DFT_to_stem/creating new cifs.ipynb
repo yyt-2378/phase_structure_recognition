{
 "cells": [
  {
   "cell_type": "code",
   "execution_count": 1,
   "metadata": {},
   "outputs": [],
   "source": [
    "%matplotlib inline\n",
    "\n",
    "\n",
    "import matplotlib.pyplot as plt\n",
    "import numpy as np\n",
    "import pandas as pd\n",
    "import sys\n",
    "import re\n",
    "import math\n",
    "from ase.visualize import view\n",
    "\n",
    "from ase.io import read\n",
    "from ase.build import surface\n",
    "\n",
    "\n",
    "\n"
   ]
  },
  {
   "cell_type": "code",
   "execution_count": 3,
   "metadata": {},
   "outputs": [
    {
     "data": {
      "text/plain": [
       "<subprocess.Popen at 0x164bc84a100>"
      ]
     },
     "execution_count": 3,
     "metadata": {},
     "output_type": "execute_result"
    }
   ],
   "source": [
    "file_name='2_site_empty/T11_O77.cif'\n",
    "atoms = read(file_name)\n",
    "oritation=(0,1,0)\n",
    "cell_size=(2,2,1)\n",
    "\n",
    "\n",
    "atoms = surface(atoms,indices=oritation,layers=1,vacuum=0,periodic=True)\n",
    "repetitions = cell_size\n",
    "\n",
    "atoms *= repetitions\n",
    "\n",
    "#atoms.rotate(180,'y',center='COM')\n",
    "#atoms.center()\n",
    "view(atoms)"
   ]
  },
  {
   "cell_type": "code",
   "execution_count": 4,
   "metadata": {},
   "outputs": [],
   "source": [
    "T1_site=[25,26,27,88,89,90,79,80,81,46,47,48]\n",
    "T2_site=[7,8,9,70,71,72,49,50,51,16,17,18]\n",
    "O1_site=[[45,175],[45,46,57],[46,85,86],[148,149],[159,168,175],[173,172,159],[88,139,177],[139,140,145],[140,172,179],[59,192],[88,80,77],[77,190,86]]\n",
    "O2_site=[[7,132,177],[7,8,13],[8,40,179],[103,192],[132,124,121],[190,130,121],[43,89,103],[89,90,101],[90,129,130],[16,17],[27,26,43],[41,40,27]]\n",
    "a=20.382\n",
    "b=20.165\n",
    "c=13.574\n",
    "H_O_distance=1 #埃"
   ]
  },
  {
   "cell_type": "code",
   "execution_count": 7,
   "metadata": {},
   "outputs": [
    {
     "ename": "FileNotFoundError",
     "evalue": "[Errno 2] No such file or directory: '2_site_empty/2_site_empty/T11_O77_T1_O45.cif'",
     "output_type": "error",
     "traceback": [
      "\u001b[1;31m---------------------------------------------------------------------------\u001b[0m",
      "\u001b[1;31mFileNotFoundError\u001b[0m                         Traceback (most recent call last)",
      "Cell \u001b[1;32mIn[7], line 24\u001b[0m\n\u001b[0;32m     21\u001b[0m flist[\u001b[39m-\u001b[39m\u001b[39m1\u001b[39m]\u001b[39m=\u001b[39m\u001b[39m'\u001b[39m\u001b[39m  \u001b[39m\u001b[39m'\u001b[39m\u001b[39m+\u001b[39m\u001b[39m'\u001b[39m\u001b[39mH1\u001b[39m\u001b[39m'\u001b[39m\u001b[39m+\u001b[39m\u001b[39m'\u001b[39m\u001b[39m  \u001b[39m\u001b[39m'\u001b[39m\u001b[39m+\u001b[39m\u001b[39m'\u001b[39m\u001b[39m1.0\u001b[39m\u001b[39m'\u001b[39m\u001b[39m+\u001b[39m\u001b[39m'\u001b[39m\u001b[39m  \u001b[39m\u001b[39m'\u001b[39m\u001b[39m+\u001b[39m\u001b[39mstr\u001b[39m(new_x)\u001b[39m+\u001b[39m\u001b[39m'\u001b[39m\u001b[39m  \u001b[39m\u001b[39m'\u001b[39m\u001b[39m+\u001b[39m\u001b[39mstr\u001b[39m(new_y)\u001b[39m+\u001b[39m\u001b[39m'\u001b[39m\u001b[39m  \u001b[39m\u001b[39m'\u001b[39m\u001b[39m+\u001b[39m\u001b[39mstr\u001b[39m(new_z)\u001b[39m+\u001b[39m\u001b[39m'\u001b[39m\u001b[39m   Uiso\u001b[39m\u001b[39m'\u001b[39m\u001b[39m+\u001b[39m\u001b[39m'\u001b[39m\u001b[39m  0.012670  \u001b[39m\u001b[39m'\u001b[39m\u001b[39m+\u001b[39m\u001b[39m'\u001b[39m\u001b[39mH\u001b[39m\u001b[39m'\u001b[39m\u001b[39m+\u001b[39m\u001b[39m'\u001b[39m\u001b[39m\\n\u001b[39;00m\u001b[39m'\u001b[39m\n\u001b[0;32m     23\u001b[0m new_file\u001b[39m=\u001b[39m\u001b[39m'\u001b[39m\u001b[39m2_site_empty/\u001b[39m\u001b[39m'\u001b[39m\u001b[39m+\u001b[39mfile[:\u001b[39m-\u001b[39m\u001b[39m4\u001b[39m]\u001b[39m+\u001b[39m\u001b[39m'\u001b[39m\u001b[39m_T\u001b[39m\u001b[39m'\u001b[39m\u001b[39m+\u001b[39m\u001b[39mstr\u001b[39m(i\u001b[39m+\u001b[39m\u001b[39m1\u001b[39m)\u001b[39m+\u001b[39m\u001b[39m'\u001b[39m\u001b[39m_\u001b[39m\u001b[39m'\u001b[39m\u001b[39m+\u001b[39msymbol\u001b[39m+\u001b[39m\u001b[39m'\u001b[39m\u001b[39m.cif\u001b[39m\u001b[39m'\u001b[39m\n\u001b[1;32m---> 24\u001b[0m f2\u001b[39m=\u001b[39m\u001b[39mopen\u001b[39;49m(new_file,\u001b[39m'\u001b[39;49m\u001b[39mw+\u001b[39;49m\u001b[39m'\u001b[39;49m)\n\u001b[0;32m     25\u001b[0m \u001b[39mfor\u001b[39;00m line \u001b[39min\u001b[39;00m flist:\n\u001b[0;32m     26\u001b[0m     f2\u001b[39m.\u001b[39mwrite(line)\n",
      "File \u001b[1;32mc:\\Users\\admin\\anaconda3\\envs\\abtem\\lib\\site-packages\\IPython\\core\\interactiveshell.py:282\u001b[0m, in \u001b[0;36m_modified_open\u001b[1;34m(file, *args, **kwargs)\u001b[0m\n\u001b[0;32m    275\u001b[0m \u001b[39mif\u001b[39;00m file \u001b[39min\u001b[39;00m {\u001b[39m0\u001b[39m, \u001b[39m1\u001b[39m, \u001b[39m2\u001b[39m}:\n\u001b[0;32m    276\u001b[0m     \u001b[39mraise\u001b[39;00m \u001b[39mValueError\u001b[39;00m(\n\u001b[0;32m    277\u001b[0m         \u001b[39mf\u001b[39m\u001b[39m\"\u001b[39m\u001b[39mIPython won\u001b[39m\u001b[39m'\u001b[39m\u001b[39mt let you open fd=\u001b[39m\u001b[39m{\u001b[39;00mfile\u001b[39m}\u001b[39;00m\u001b[39m by default \u001b[39m\u001b[39m\"\u001b[39m\n\u001b[0;32m    278\u001b[0m         \u001b[39m\"\u001b[39m\u001b[39mas it is likely to crash IPython. If you know what you are doing, \u001b[39m\u001b[39m\"\u001b[39m\n\u001b[0;32m    279\u001b[0m         \u001b[39m\"\u001b[39m\u001b[39myou can use builtins\u001b[39m\u001b[39m'\u001b[39m\u001b[39m open.\u001b[39m\u001b[39m\"\u001b[39m\n\u001b[0;32m    280\u001b[0m     )\n\u001b[1;32m--> 282\u001b[0m \u001b[39mreturn\u001b[39;00m io_open(file, \u001b[39m*\u001b[39;49margs, \u001b[39m*\u001b[39;49m\u001b[39m*\u001b[39;49mkwargs)\n",
      "\u001b[1;31mFileNotFoundError\u001b[0m: [Errno 2] No such file or directory: '2_site_empty/2_site_empty/T11_O77_T1_O45.cif'"
     ]
    }
   ],
   "source": [
    "#generate cifs with 1 Al per cell \n",
    "for i in range(len(T1_site)):\n",
    "    file=\"2_site_empty/T11_O77.txt\" #need to change\n",
    "    f1=open(file,'r+')\n",
    "    flist=f1.readlines()\n",
    "    flist[T1_site[i]+29]=re.sub('Si','Al',flist[T1_site[i]+29])\n",
    "    flist.append('')\n",
    "    \n",
    "    for n in range(len(O1_site[i])):\n",
    "        O_number=O1_site[i][n]+125\n",
    "        O_line=flist[O_number]\n",
    "\n",
    "        symbol=O_line.split()[0]\n",
    "        x=float(O_line.split()[2])\n",
    "        y=float(O_line.split()[3])\n",
    "        z=float(O_line.split()[4])\n",
    "        L=math.sqrt(a*(0.5-x)**2+b*(0.5-y)**2+c*(0.5-z)**2)\n",
    "        new_x=x+(0.5-x)*H_O_distance/L/4\n",
    "        new_y=y+(0.5-y)*H_O_distance/L/4\n",
    "        new_z=z+(0.5-z)*H_O_distance/L/4\n",
    "        flist[-1]='  '+'H1'+'  '+'1.0'+'  '+str(new_x)+'  '+str(new_y)+'  '+str(new_z)+'   Uiso'+'  0.012670  '+'H'+'\\n'\n",
    "        \n",
    "        new_file='2_site_empty/'+file[:-4]+'_T'+str(i+1)+'_'+symbol+'.cif'\n",
    "        f2=open(new_file,'w+')\n",
    "        for line in flist:\n",
    "            f2.write(line)\n",
    "\n",
    "        f1.close()\n",
    "        f2.close()"
   ]
  },
  {
   "cell_type": "code",
   "execution_count": null,
   "metadata": {},
   "outputs": [],
   "source": [
    "#generate cifs with 1 Al per cell and with 1 benzene per cell\n",
    "for i in range(len(T1_site)):\n",
    "    file=\"MFI_raw.txt\" #need to change\n",
    "    f1=open(file,'r+')\n",
    "    flist=f1.readlines()\n",
    "    flist[T1_site[i]+29]=re.sub('Si','Al',flist[T1_site[i]+29])\n",
    "    flist.append('')\n",
    "    \n",
    "    for n in range(len(O1_site[i])):\n",
    "        O_number=O1_site[i][n]+125\n",
    "        O_line=flist[O_number]\n",
    "\n",
    "        symbol=O_line.split()[0]\n",
    "        x=float(O_line.split()[2])\n",
    "        y=float(O_line.split()[3])\n",
    "        z=float(O_line.split()[4])\n",
    "        L=math.sqrt(a*(0.5-x)**2+b*(0.5-y)**2+c*(0.5-z)**2)\n",
    "        new_x=x+(0.5-x)*H_O_distance/L/4\n",
    "        new_y=y+(0.5-y)*H_O_distance/L/4\n",
    "        new_z=z+(0.5-z)*H_O_distance/L/4\n",
    "        flist[-1]='  '+'H1'+'  '+'1.0'+'  '+str(new_x)+'  '+str(new_y)+'  '+str(new_z)+'   Uiso'+'  0.012670  '+'H'+'\\n'\n",
    "        \n",
    "        new_file='1_site_empty_with_1_benzene/'+file[:-4]+'_T'+str(i+1)+'_'+symbol+'_with_C6.cif'\n",
    "        f2=open(new_file,'w+')\n",
    "        for line in flist:\n",
    "            f2.write(line)\n",
    "\n",
    "        f1.close()\n",
    "        f2.close()"
   ]
  },
  {
   "cell_type": "code",
   "execution_count": 89,
   "metadata": {},
   "outputs": [
    {
     "data": {
      "text/plain": [
       "1.0288034351288393"
      ]
     },
     "execution_count": 89,
     "metadata": {},
     "output_type": "execute_result"
    }
   ],
   "source": []
  },
  {
   "cell_type": "code",
   "execution_count": null,
   "metadata": {},
   "outputs": [
    {
     "data": {
      "text/plain": [
       "'   O191       1.0     0.777580     0.534360     0.935430    Uiso  0.012670 O\\n'"
      ]
     },
     "execution_count": 73,
     "metadata": {},
     "output_type": "execute_result"
    }
   ],
   "source": []
  },
  {
   "cell_type": "code",
   "execution_count": null,
   "metadata": {},
   "outputs": [],
   "source": []
  }
 ],
 "metadata": {
  "kernelspec": {
   "display_name": "abtem",
   "language": "python",
   "name": "python3"
  },
  "language_info": {
   "codemirror_mode": {
    "name": "ipython",
    "version": 3
   },
   "file_extension": ".py",
   "mimetype": "text/x-python",
   "name": "python",
   "nbconvert_exporter": "python",
   "pygments_lexer": "ipython3",
   "version": "3.8.15"
  },
  "orig_nbformat": 4,
  "vscode": {
   "interpreter": {
    "hash": "6dd3c950f84893cd3374b555657fc0863bff213f68d857f85e4d5b92ea093734"
   }
  }
 },
 "nbformat": 4,
 "nbformat_minor": 2
}
