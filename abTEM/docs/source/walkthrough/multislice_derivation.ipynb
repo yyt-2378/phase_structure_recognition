{
 "cells": [
  {
   "cell_type": "markdown",
   "metadata": {},
   "source": [
    "# Appendix: Derivation of the Multislice Algorithm"
   ]
  },
  {
   "cell_type": "markdown",
   "metadata": {},
   "source": [
    "This is a short description on the theory of the multislice method. For a more complete, formal discussion including detailed theory see Advanced Computing Computing in Electron Microscopy by EJ Kirkland.\n",
    "\n",
    "The energy of the incident electron waves (100 - 1000 keV) are much higher than the specimen potential, which provides only minor perturbations on the forward motion of the electrons. Hence, it is useful to write the wave function, $\\psi$, of the propagating electrons as a slowly varying plane wave along the optical axis, $z$, with an amplitude modulation\n",
    "\n",
    "$$\n",
    "    \\psi(\\vec{r}) = \\phi(\\vec{r})\\exp(2\\pi iz/\\lambda) \\quad ,\n",
    "$$\n",
    "\n",
    "where $\\vec{r} = (x,y,z)$ and $\\lambda$ is the de Broglie wavelength of the electrons. Substituting this into the Schrödinger equation we obtain\n",
    "\n",
    "$$\n",
    "    -\\frac{\\hbar^2}{2m} \\left[\\nabla_{xy}^2 + \\frac{\\partial^2}{\\partial z^2} + \\frac{4\\pi i}{\\lambda}\\frac{\\partial}{\\partial z} + \\frac{2meV(\\vec{r})}{\\hbar^2}  \\right] \\phi(\\vec{r}) = 0 \\qquad \\nabla_{xy}^2 = \\frac{\\partial^2}{\\partial x^2} + \\frac{\\partial^2}{\\partial y^2} \\quad .\n",
    "$$\n",
    "\n",
    "In the high energy approximation, we assume that the wavefunction varies slowly in the $z$-direction compared to the potential and that the wavelength is small, thus\n",
    "\n",
    "$$\n",
    "    \\left| \\frac{\\partial^2 \\phi}{\\partial z^2} \\right| \\ll \\left| \\frac{1}{\\lambda} \\frac{\\partial \\phi}{\\partial z} \\right| \\quad .\n",
    "$$\n",
    "\n",
    "Hence, the Schrödinger equation simplifies to a first order differential equation in $z$\n",
    "\n",
    "$$\n",
    "    \\frac{\\partial \\phi(\\vec{r})}{\\partial z} = \\left[\\frac{i\\lambda}{4\\pi} \\nabla_{xy}^2 + i \\sigma V(\\vec{r}) \\right] \\phi(\\vec{r}) \\quad ,\n",
    "$$\n",
    "\n",
    "where $\\sigma=2\\pi me\\lambda/h^2$ is the interaction parameter. This equation is integrated numerically by slicing the potential into thin slices, such that the influence of each slice can be approximated as a simple phase shift of the wave function. The wave function is propagated between slices as a small angle outgoing wave (Fresnel diffraction). The transmission and propagation across a single slice can be written\n",
    "\n",
    "$$\n",
    "    \\phi(x, y, z + \\Delta z) = p(x,y,\\Delta z) * [t(r) \\psi(\\vec{r})] + \\mathcal{O}(\\Delta z^2) \\quad ,\n",
    "$$\n",
    "\n",
    "where $*$ represents a convolution. The transmission function, $t(r)$, for the portion of the potential between $z$ and $z+\\Delta z$ is\n",
    "\n",
    "$$\n",
    "    t(\\vec{r}) = \\exp\\left[i\\sigma \\int_z^{z+\\Delta z} V(\\vec{r}) dz'\\right] \\quad ,\n",
    "$$\n",
    "\n",
    "and the Fresnel propagator $p(x, y, \\Delta z)$ is\n",
    "\n",
    "$$\n",
    "    p(x,y,\\Delta z) = \\frac{1}{i \\lambda \\Delta z}\\exp\\left[\\frac{i\\pi}{\\lambda \\Delta z}(x^2+y^2)\\right] \\, .\n",
    "$$\n",
    "\n",
    "The wave at the exit plane of the specimen is obtained by sequentially propagating and transmitting the wave function starting with an assumed input wave.\n",
    "\n",
    "Convolutions can be performed efficiently by utilizing the Fast Fourier Transform (FFT). The implemented form of Eq. the single slice propagation is\n",
    "\n",
    "$$\n",
    "    \\phi_{z + \\Delta z}(x,y) = \\mathcal{F}^{-1}\\{P(k_x, k_y, \\Delta z) \\mathcal{F}[t(\\vec{r}) \\phi(\\vec{r})] \\} \\quad ,\n",
    "$$\n",
    "\n",
    "where $P$ is the Fourier transform of the fresnel propagator. The computational cost for the FFT scales as $N \\log(N)$ with the number of samples $N$."
   ]
  }
 ],
 "metadata": {
  "kernelspec": {
   "display_name": "abtem",
   "language": "python",
   "name": "abtem"
  },
  "language_info": {
   "codemirror_mode": {
    "name": "ipython",
    "version": 3
   },
   "file_extension": ".py",
   "mimetype": "text/x-python",
   "name": "python",
   "nbconvert_exporter": "python",
   "pygments_lexer": "ipython3",
   "version": "3.7.5"
  }
 },
 "nbformat": 4,
 "nbformat_minor": 4
}
