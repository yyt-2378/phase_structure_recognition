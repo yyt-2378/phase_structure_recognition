{
 "cells": [
  {
   "cell_type": "code",
   "execution_count": null,
   "metadata": {},
   "outputs": [],
   "source": [
    "import numpy as np\n",
    "import matplotlib.pyplot as plt\n",
    "from ase.cluster import Decahedron\n",
    "from tqdm.auto import tqdm\n",
    "\n",
    "from abtem import *\n",
    "import time\n",
    "import cupy as cp"
   ]
  },
  {
   "cell_type": "code",
   "execution_count": null,
   "metadata": {},
   "outputs": [],
   "source": [
    "#from cupy.fft.config import get_plan_cache\n",
    "#cache = get_plan_cache()\n",
    "#cache.set_size(0)"
   ]
  },
  {
   "cell_type": "code",
   "execution_count": null,
   "metadata": {},
   "outputs": [],
   "source": [
    "abtem_timings = {}\n",
    "\n",
    "gpts = (4096, 2048, 1024, 512)\n",
    "p = (27, 13, 6, 2)\n",
    "interpolation = (16, 8, 4, 2)\n",
    "extent = (136, 68, 34, 17)\n",
    "num_fp = (2, 4, 8, 16) # multiple frozen phonon configurations, just to obtain reasonble averages\n",
    "\n",
    "for device in ('cpu','gpu'):\n",
    "    abtem_timings[device] = {}\n",
    "    \n",
    "    for i in tqdm(range(0,4)):\n",
    "        atoms = Decahedron('Au', p[i], 1, 1, latticeconstant=None)\n",
    "        atoms.rotate(30, 'x', center='cop')\n",
    "\n",
    "        atoms.cell[0,0] = extent[i]\n",
    "        atoms.cell[1,1] = extent[i]\n",
    "        atoms.center()\n",
    "\n",
    "        atoms.center(vacuum=2, axis=2)\n",
    "        \n",
    "        fp = FrozenPhonons(atoms, num_fp[i], {'Au':.12})\n",
    "        \n",
    "        potential = Potential(fp, slice_thickness = 1, device=device, \n",
    "                              precalculate=False, projection='infinite', parametrization='kirkland')\n",
    "\n",
    "        potential.gpts = gpts[i]\n",
    "\n",
    "        S = SMatrix(energy=80e3, expansion_cutoff=25, semiangle_cutoff=25, interpolation=interpolation[i], device=device, storage='cpu')\n",
    "\n",
    "        S.extent = potential.extent\n",
    "        S.gpts = potential.gpts\n",
    "\n",
    "        scan = GridScan((0,0), potential.extent, sampling=S.ctf.nyquist_sampling)\n",
    "\n",
    "        detector = AnnularDetector(40, 120)\n",
    "\n",
    "        start = time.time()\n",
    "        measurements = S.scan(scan, detector, potential, max_batch_probes = 1024, pbar=False)\n",
    "        end = time.time()\n",
    "\n",
    "        abtem_timings[device][gpts[i]] = (end-start) / num_fp[i]\n",
    "        \n",
    "        cache = cp.fft.config.get_plan_cache()\n",
    "        cache.clear() "
   ]
  },
  {
   "cell_type": "code",
   "execution_count": null,
   "metadata": {},
   "outputs": [],
   "source": [
    "# Timings for Prismatic were obtained using the precompiled binary version 1.2.1 on Windows\n",
    "# See here for installation: https://prism-em.com/downloads-binaries/\n",
    "\n",
    "prismatic_timings = {'gpu': {2048: 23.9, 1024: 5.667, 512: 1.9},\n",
    "                     'cpu': {2048: 419, 1024: 61, 512: 9.3},}"
   ]
  },
  {
   "cell_type": "code",
   "execution_count": null,
   "metadata": {},
   "outputs": [],
   "source": [
    "abtem_gpu = sorted(abtem_timings['gpu'].values())\n",
    "prismatic_gpu = sorted(prismatic_timings['gpu'].values())\n",
    "abtem_cpu = sorted(abtem_timings['cpu'].values())\n",
    "prismatic_cpu = sorted(prismatic_timings['cpu'].values())\n",
    "\n",
    "plt.figure(figsize=(4,3))\n",
    "plt.semilogy(gpts[::-1],abtem_gpu,'r-',label='abTEM GPU')\n",
    "plt.semilogy(gpts[::-1][:-1],prismatic_gpu,'r--',label='Prismatic GPU')\n",
    "plt.semilogy(gpts[::-1],abtem_cpu,'b-',label='abTEM CPU')\n",
    "plt.semilogy(gpts[::-1][:-1],prismatic_cpu,'b--',label='Prismatic CPU')\n",
    "plt.xlabel('Number of gridpoints')\n",
    "plt.ylabel('Calculation time [s]')\n",
    "plt.legend()\n",
    "plt.tight_layout()"
   ]
  }
 ],
 "metadata": {
  "kernelspec": {
   "display_name": "abtem",
   "language": "python",
   "name": "abtem"
  },
  "language_info": {
   "codemirror_mode": {
    "name": "ipython",
    "version": 3
   },
   "file_extension": ".py",
   "mimetype": "text/x-python",
   "name": "python",
   "nbconvert_exporter": "python",
   "pygments_lexer": "ipython3",
   "version": "3.8.5"
  }
 },
 "nbformat": 4,
 "nbformat_minor": 4
}
