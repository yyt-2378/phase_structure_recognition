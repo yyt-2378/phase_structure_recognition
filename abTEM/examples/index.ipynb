{
 "cells": [
  {
   "cell_type": "markdown",
   "metadata": {
    "pycharm": {
     "name": "#%% md\n"
    }
   },
   "source": [
    "# abTEM\n",
    "\n",
    "abTEM provides a Python API for running simulations of (scanning) transmission electron microscopy images and diffraction patterns using the multislice or PRISM algorithms.\n",
    "\n",
    "<div class= \"alert alert-info\">\n",
    "    \n",
    "**Note: Binder users**\n",
    "\n",
    "The notebooks marked with an asterisk (*) are appropriate to run using very low computational resources. GPAW is not installed in the default binder configuration.\n",
    "\n",
    "</div>"
   ]
  },
  {
   "cell_type": "markdown",
   "metadata": {},
   "source": [
    "## Quickstart\n",
    "To quickly start using abTEM in one of the typical imaging modes try one of the quick start guides:\n",
    "* [HRTEM and SAED](quickstart/quick_hrtem_and_saed.ipynb) (*)\n",
    "* [STEM](quickstart/quick_stem.ipynb) (*)\n",
    "* [4D-STEM](quickstart/quick_4d-stem.ipynb) (*)\n",
    "* [DFT potential](quickstart/quick_hrtem_with_dft_potential.ipynb)\n",
    "\n",
    "## Walkthrough\n",
    "For a thorough walkthrough of the main features try the walkthrough:\n",
    "1. [Atomic models with ASE](../docs/source/walkthrough/01_atomic_models.ipynb) (*)\n",
    "2. [Potentials](../docs/source/walkthrough/02_potentials.ipynb) (*)\n",
    "3. [Wave functions](../docs/source/walkthrough/03_wave_functions.ipynb) (*)\n",
    "4. [Multislice](../docs/source/walkthrough/04_multislice.ipynb) (*)\n",
    "5. [Contrast transfer function](../docs/source/walkthrough/05_contrast_transfer_function.ipynb) (*)\n",
    "6. [Scan and detect](../docs/source/walkthrough/06_scan_and_detect.ipynb) (*)\n",
    "7. [Detectors](../docs/source/walkthrough/07_detectors_%284D-STEM%29.ipynb) (*)\n",
    "8. [Temperature](../docs/source/walkthrough/08_temperature.ipynb)\n",
    "9. [PRISM](../docs/source/walkthrough/09_prism.ipynb) (*)\n",
    "10. [DFT with GPAW](../docs/source/walkthrough/10_DFT.ipynb)\n",
    "11. [GPU](../docs/source/walkthrough/11_GPU_calculations.ipynb)\n",
    "\n",
    "## Other\n",
    "Growing library of notebooks demonstrating special use cases.\n",
    "* [Materials project integration](other/materials_project.ipynb)\n",
    "* [LAMMPS integration](other/lammps.ipynb)\n",
    "* [PACBED thickness series](other/pacbed_thickness_series.ipynb)\n",
    "* [Z-contrast power law](other/relative_atomic_contrast.ipynb) (*)\n",
    "* [Relative intensity of dopants](other/relative_intensity_of_dopants.ipynb) (*)\n",
    "* [Is Nyquist sampling enough](other/is_nyquist_enough.ipynb)\n",
    "* [Convergence analysis of potential parameters](other/potential_convergence_analysis.ipynb)\n",
    "\n",
    "## Interactive\n",
    "Notebooks demonstrating interactive calculations.\n",
    "* [Demo](interactive/demo.ipynb) (*)\n",
    "* [Builtin interations](interactive/builtin_interactions.ipynb) (*)\n",
    "* [Interactive CBED](interactive/interactive_cbed.ipynb)\n",
    "* [4dstem](interactive/4dstem_data_exploration.ipynb)\n",
    "\n",
    "## Benchmarks\n",
    "Simulations demonstrating the performance of abTEM.\n",
    "* [8 million atoms](benchmarks/cbed_8_million_atoms.ipynb) (GPU recommended)\n",
    "* [1 million probes](benchmarks/1_million_probe_positions.ipynb) (GPU recommended)"
   ]
  }
 ],
 "metadata": {
  "kernelspec": {
   "display_name": "abtem",
   "language": "python",
   "name": "abtem"
  },
  "language_info": {
   "codemirror_mode": {
    "name": "ipython",
    "version": 3
   },
   "file_extension": ".py",
   "mimetype": "text/x-python",
   "name": "python",
   "nbconvert_exporter": "python",
   "pygments_lexer": "ipython3",
   "version": "3.8.5"
  }
 },
 "nbformat": 4,
 "nbformat_minor": 4
}