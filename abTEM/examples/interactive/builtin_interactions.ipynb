{
 "cells": [
  {
   "cell_type": "code",
   "execution_count": 1,
   "metadata": {},
   "outputs": [
    {
     "name": "stdout",
     "output_type": "stream",
     "text": [
      "current version: 1.0.0beta20\n"
     ]
    }
   ],
   "source": [
    "# notebook last tested with abtem version 1.0.0beta7\n",
    "\n",
    "from abtem import __version__\n",
    "print('current version:', __version__)\n",
    "\n",
    "import matplotlib.pyplot as plt\n",
    "from ase.io import read\n",
    "from ase.build import mx2\n",
    "\n",
    "from abtem import *\n",
    "from abtem.visualize.interactive.utils import quick_sliders\n",
    "from abtem.structures import orthogonalize_cell\n",
    "\n",
    "import ipywidgets as widgets\n",
    "import numpy as np"
   ]
  },
  {
   "cell_type": "markdown",
   "metadata": {},
   "source": [
    "# abTEM's builtin interactions"
   ]
  },
  {
   "cell_type": "code",
   "execution_count": 2,
   "metadata": {},
   "outputs": [],
   "source": [
    "atoms = mx2(formula='MoS2', kind='2H', a=3.18, thickness=3.19, size=(1, 1, 1), vacuum=None)\n",
    "repetitions = (3, 2, 1)\n",
    "atoms = orthogonalize_cell(atoms)\n",
    "atoms *= repetitions\n",
    "atoms.center(vacuum=2, axis=2)"
   ]
  },
  {
   "cell_type": "markdown",
   "metadata": {},
   "source": [
    "## HRTEM"
   ]
  },
  {
   "cell_type": "code",
   "execution_count": 3,
   "metadata": {},
   "outputs": [],
   "source": [
    "wave = PlaneWave(energy=300e3, sampling=.05)\n",
    "potential = Potential(atoms, projection='infinite', parametrization='kirkland', slice_thickness=10)\n",
    "exit_wave = wave.multislice(potential, pbar=False)"
   ]
  },
  {
   "cell_type": "code",
   "execution_count": 4,
   "metadata": {},
   "outputs": [
    {
     "data": {
      "application/vnd.jupyter.widget-view+json": {
       "model_id": "134ee0f3014548aca2edeebdd5a8dd55",
       "version_major": 2,
       "version_minor": 0
      },
      "text/plain": [
       "HBox(children=(VBox(children=(Figure(axes=[Axis(label='x [Å]', scale=LinearScale(allow_padding=False, max=10.2…"
      ]
     },
     "metadata": {},
     "output_type": "display_data"
    }
   ],
   "source": [
    "ctf = CTF()\n",
    "\n",
    "image_wave, figure = ctf.apply(exit_wave, interact=True)\n",
    "sliders = quick_sliders(ctf, \n",
    "                        defocus=(-100,100,1), \n",
    "                        Cs = (-1e5, 1e5, 1e4),\n",
    "                        semiangle_cutoff=(10,50,.1))\n",
    "\n",
    "widgets.HBox([widgets.VBox([figure] + sliders), ctf.interact(max_semiangle=50)])"
   ]
  },
  {
   "cell_type": "markdown",
   "metadata": {},
   "source": [
    "## Probe"
   ]
  },
  {
   "cell_type": "code",
   "execution_count": 7,
   "metadata": {},
   "outputs": [
    {
     "data": {
      "application/vnd.jupyter.widget-view+json": {
       "model_id": "37f465fb3d594aa0a5076f614c565179",
       "version_major": 2,
       "version_minor": 0
      },
      "text/plain": [
       "HBox(children=(Figure(axes=[Axis(scale=LinearScale(allow_padding=False)), Axis(orientation='vertical', scale=L…"
      ]
     },
     "metadata": {},
     "output_type": "display_data"
    }
   ],
   "source": [
    "probe = Probe(energy=80e3, extent=10, sampling=.05, semiangle_cutoff=50, defocus=10)\n",
    "\n",
    "probe.interact(sliders = {'energy': (2e3,500e3,1e3),\n",
    "                         'defocus': (-100,100,1), \n",
    "                         'Cs': (0,1e6,1e3)},\n",
    "               throttling=.01) "
   ]
  },
  {
   "cell_type": "markdown",
   "metadata": {},
   "source": [
    "## Integrating virtual detector"
   ]
  },
  {
   "cell_type": "code",
   "execution_count": 3,
   "metadata": {},
   "outputs": [],
   "source": [
    "probe = SMatrix(energy=80e3, semiangle_cutoff=20, expansion_cutoff=20, sampling=.06, device='cpu')\n",
    "gridscan = GridScan(start=[0, 0], end=np.diag(atoms.cell)[:2], sampling=probe.ctf.nyquist_sampling * .25)\n",
    "measurement = probe.scan(gridscan, FlexibleAnnularDetector(), atoms, max_batch_probes=500, pbar=False)"
   ]
  },
  {
   "cell_type": "code",
   "execution_count": 4,
   "metadata": {},
   "outputs": [
    {
     "data": {
      "application/vnd.jupyter.widget-view+json": {
       "model_id": "fd7977af03bb430bb82e542bf226483d",
       "version_major": 2,
       "version_minor": 0
      },
      "text/plain": [
       "HBox(children=(Figure(axes=[Axis(label='x [Å]', scale=LinearScale(allow_padding=False, max=10.21346210860957, …"
      ]
     },
     "metadata": {},
     "output_type": "display_data"
    }
   ],
   "source": [
    "m,figure = measurement.integrate(50, 200, interactive=True)\n",
    "\n",
    "figure"
   ]
  }
 ],
 "metadata": {
  "kernelspec": {
   "display_name": "abtem",
   "language": "python",
   "name": "abtem"
  },
  "language_info": {
   "codemirror_mode": {
    "name": "ipython",
    "version": 3
   },
   "file_extension": ".py",
   "mimetype": "text/x-python",
   "name": "python",
   "nbconvert_exporter": "python",
   "pygments_lexer": "ipython3",
   "version": "3.8.5"
  }
 },
 "nbformat": 4,
 "nbformat_minor": 4
}
