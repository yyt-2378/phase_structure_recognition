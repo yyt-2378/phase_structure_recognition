{
 "cells": [
  {
   "cell_type": "code",
   "execution_count": 1,
   "metadata": {},
   "outputs": [],
   "source": [
    "from abtem import *\n",
    "from ase import Atoms\n",
    "from tqdm.auto import tqdm\n",
    "import numpy as np\n",
    "import matplotlib.pyplot as plt\n",
    "from scipy import optimize "
   ]
  },
  {
   "cell_type": "markdown",
   "metadata": {},
   "source": [
    "# Relative atomic contrast\n",
    "\n",
    "Calculates the relative atomic STEM contrast and fits a power law."
   ]
  },
  {
   "cell_type": "code",
   "execution_count": 24,
   "metadata": {},
   "outputs": [],
   "source": [
    "def atomic_potential(Z):\n",
    "    atoms = Atoms([Z], positions=[(2.5,2.5,2.5)], cell=(5,5,5))\n",
    "    return Potential(atoms, sampling=.1, slice_thickness=1, \n",
    "                     parametrization='lobato', projection='finite')\n",
    "\n",
    "def powerlaw(x, amplitude, power):\n",
    "    return amplitude * (x ** power)\n",
    "\n",
    "def fit_power_law(xdata, ydata):\n",
    "    logxdata = np.log10(xdata)\n",
    "    logydata = weights = np.log10(ydata)\n",
    "\n",
    "    fitfunc = lambda p, x: p[0] + p[1] * x   \n",
    "    errfunc = lambda p, x, y, weights: (y - fitfunc(p, x)) / weights\n",
    "\n",
    "    pinit = [1.0, 2.0]\n",
    "    result = optimize.leastsq(errfunc, pinit, args=(logxdata, logydata, weights))\n",
    "\n",
    "    amplitude = 10. ** result[0][0]\n",
    "    power = result[0][1]\n",
    "    \n",
    "    return amplitude, power"
   ]
  },
  {
   "cell_type": "code",
   "execution_count": 36,
   "metadata": {},
   "outputs": [
    {
     "data": {
      "text/plain": [
       "inf"
      ]
     },
     "execution_count": 36,
     "metadata": {},
     "output_type": "execute_result"
    }
   ],
   "source": [
    "kn(0, 0)"
   ]
  },
  {
   "cell_type": "code",
   "execution_count": 35,
   "metadata": {},
   "outputs": [
    {
     "name": "stderr",
     "output_type": "stream",
     "text": [
      "<ipython-input-35-60b405397e97>:5: RuntimeWarning: invalid value encountered in multiply\n",
      "  p[0][:, None] * r[None] * kn(1, r[None] * p[1][:, None])).sum(0)\n"
     ]
    },
    {
     "data": {
      "text/plain": [
       "array([       nan, 4.91176215, 2.54112784, 1.42111412, 0.8123855 ,\n",
       "       0.47017918, 0.27515353, 0.16284521, 0.09744874, 0.05890235])"
      ]
     },
     "execution_count": 35,
     "metadata": {},
     "output_type": "execute_result"
    }
   ],
   "source": [
    "from scipy.special import kn\n",
    "\n",
    "def projected_potential(r, p):\n",
    "    return 2 * (2 * p[0][:, None] / p[1][:, None] * kn(0, r[None] * p[1][:, None]) +\n",
    "                p[0][:, None] * r[None] * kn(1, r[None] * p[1][:, None])).sum(0)\n",
    "\n",
    "from abtem.parametrizations import load_lobato_parameters\n",
    "p = load_lobato_parameters()\n",
    "\n",
    "\n",
    "r = np.linspace(0,1,10)\n",
    "\n",
    "projected_potential(r, p[8])"
   ]
  },
  {
   "cell_type": "code",
   "execution_count": 25,
   "metadata": {},
   "outputs": [
    {
     "name": "stderr",
     "output_type": "stream",
     "text": [
      "<ipython-input-25-a5f425cf7485>:1: DeprecationWarning: `np.int` is a deprecated alias for the builtin `int`. To silence this warning, use `int` by itself. Doing this will not modify any behavior and is safe. When replacing `np.int`, you may wish to use e.g. `np.int64` or `np.int32` to specify the precision. If you wish to review your current use, check the release note link for additional information.\n",
      "Deprecated in NumPy 1.20; for more details and guidance: https://numpy.org/devdocs/release/1.20.0-notes.html#deprecations\n",
      "  Zs = np.arange(1, 90, 1, dtype=np.int)\n"
     ]
    },
    {
     "data": {
      "application/vnd.jupyter.widget-view+json": {
       "model_id": "9025bd371bb8419f9dba4ac912b14362",
       "version_major": 2,
       "version_minor": 0
      },
      "text/plain": [
       "  0%|          | 0/89 [00:00<?, ?it/s]"
      ]
     },
     "metadata": {},
     "output_type": "display_data"
    }
   ],
   "source": [
    "Zs = np.arange(1, 90, 1, dtype=np.int)\n",
    "\n",
    "intensities = []\n",
    "\n",
    "for Z in tqdm(Zs):\n",
    "    potential = atomic_potential(Z)\n",
    "    \n",
    "    intensities.append(potential.build().array.max())\n",
    "    "
   ]
  },
  {
   "cell_type": "code",
   "execution_count": 26,
   "metadata": {},
   "outputs": [
    {
     "data": {
      "image/png": "[encoded data removed]",
      "text/plain": [
       "<Figure size 432x288 with 1 Axes>"
      ]
     },
     "metadata": {
      "needs_background": "light"
     },
     "output_type": "display_data"
    }
   ],
   "source": [
    "plt.plot(intensities)\n",
    "plt.xlabel('Element');"
   ]
  },
  {
   "cell_type": "code",
   "execution_count": 254,
   "metadata": {},
   "outputs": [],
   "source": [
    "probe = Probe(energy=300e3, semiangle_cutoff=30)\n",
    "\n",
    "detector = AnnularDetector(45, 200)"
   ]
  },
  {
   "cell_type": "code",
   "execution_count": 255,
   "metadata": {},
   "outputs": [
    {
     "data": {
      "application/vnd.jupyter.widget-view+json": {
       "model_id": "b6520b33bba84e5094e9a8ff393cd808",
       "version_major": 2,
       "version_minor": 0
      },
      "text/plain": [
       "HBox(children=(FloatProgress(value=0.0, max=89.0), HTML(value='')))"
      ]
     },
     "metadata": {},
     "output_type": "display_data"
    },
    {
     "name": "stdout",
     "output_type": "stream",
     "text": [
      "\n"
     ]
    }
   ],
   "source": [
    "Zs = np.arange(1, 90, 1, dtype=np.int)\n",
    "\n",
    "intensities = []\n",
    "\n",
    "for Z in tqdm(Zs):\n",
    "    potential = atomic_potential(Z)\n",
    "\n",
    "    position = (potential.extent[0] / 2, potential.extent[1] / 2)\n",
    "\n",
    "    exit_wave = probe.multislice(position, potential, pbar=False)\n",
    "    \n",
    "    intensities.append(detector.detect(exit_wave)[0])\n",
    "    \n",
    "intensities = np.array(intensities)"
   ]
  },
  {
   "cell_type": "code",
   "execution_count": 256,
   "metadata": {},
   "outputs": [
    {
     "name": "stdout",
     "output_type": "stream",
     "text": [
      "best fitting powerlaw: 0.000060 * Z ** 1.721703\n"
     ]
    },
    {
     "data": {
      "image/png": "[encoded data removed]",
      "text/plain": [
       "<Figure size 576x432 with 1 Axes>"
      ]
     },
     "metadata": {
      "needs_background": "light"
     },
     "output_type": "display_data"
    }
   ],
   "source": [
    "amplitude, power = fit_power_law(Zs, intensities)\n",
    "\n",
    "print(f'best fitting powerlaw: {amplitude:.6f} * Z ** {power:.6f}')\n",
    "\n",
    "plt.figure(figsize=(8,6))\n",
    "plt.plot(Zs, intensities, label='simulation')\n",
    "plt.plot(Zs, powerlaw(Zs, amplitude, power), label='fit')\n",
    "plt.xlabel('Atomic number')\n",
    "plt.ylabel('Detected intensity [arb. unit]')\n",
    "plt.legend();"
   ]
  }
 ],
 "metadata": {
  "kernelspec": {
   "display_name": "abtem",
   "language": "python",
   "name": "abtem"
  },
  "language_info": {
   "codemirror_mode": {
    "name": "ipython",
    "version": 3
   },
   "file_extension": ".py",
   "mimetype": "text/x-python",
   "name": "python",
   "nbconvert_exporter": "python",
   "pygments_lexer": "ipython3",
   "version": "3.8.10"
  }
 },
 "nbformat": 4,
 "nbformat_minor": 4
}
