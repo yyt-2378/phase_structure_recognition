{
 "cells": [
  {
   "cell_type": "code",
   "execution_count": 1,
   "id": "8aa0b22b",
   "metadata": {},
   "outputs": [
    {
     "name": "stderr",
     "output_type": "stream",
     "text": [
      "D:\\Documents\\Downloads\\anaconda3\\envs\\chemdev2\\lib\\site-packages\\ase\\io\\cif.py:404: UserWarning: crystal system 'triclinic' is not interpreted for space group Spacegroup(1, setting=1). This may result in wrong setting!\n",
      "  setting_name, spacegroup))\n"
     ]
    }
   ],
   "source": [
    "from ase.io import read\n",
    "from PIL import Image, ImageDraw\n",
    "\n",
    "# 定义cif文件路径列表\n",
    "cif_files = ['F:/cv/new images/0616/T1-O2-saifen-two layers.cif', 'F:/cv/new images/0616/T2-O2-two layers.cif', 'F:/cv/new images/0616/T3-O1-saifen-two layers.cif', 'F:/cv/new images/0616/T5-O2-saifen-two layers.cif', 'F:/cv/new images/0616/T6-O1-two layers.cif', 'F:/cv/new images/0616/T9-O1-saifen-two layers.cif', 'F:/cv/new images/0616/T11-O2-saifen-two layers.cif']\n",
    "\n",
    "# 定义每种元素的灰度和半径\n",
    "element_colors = {\n",
    "    'Si': (130, 0.36875),\n",
    "    'Al': (225, 0.36875),\n",
    "    'O': (145, 0.228125),\n",
    "    'H': (234, 0.1),\n",
    "    'C': (136, 0.240625),\n",
    "    'S': (246, 0.31875),\n",
    "    'N': (192, 0.234375)\n",
    "}\n",
    "\n",
    "# 设置图像大小和缩放比例\n",
    "image_size = (244, 162)\n",
    "scale_xz = 3.997\n",
    "scale_r = 5.995\n",
    "\n",
    "# 循环处理每个cif文件\n",
    "for i, cif_file in enumerate(cif_files):\n",
    "    atoms_list = []\n",
    "    \n",
    "    # 读取cif文件\n",
    "    atoms = read(cif_file)\n",
    "    \n",
    "    # 将原子数据存储在列表中\n",
    "    atoms_list.append(atoms)\n",
    "    \n",
    "    # 创建一个白色背景图像\n",
    "    img = Image.new('L', image_size, color='white')\n",
    "\n",
    "    # 在xz平面上绘制原子\n",
    "    draw = ImageDraw.Draw(img)\n",
    "    for atom in atoms:\n",
    "        # 投影到b面\n",
    "        position = atom.position\n",
    "        position[1] = 0\n",
    "        element = atom.symbol\n",
    "        x, y, z = atom.position\n",
    "        if y == 0:\n",
    "            # 计算绘制的圆形的位置和大小\n",
    "            gray_value, radius = element_colors[element]\n",
    "            x_pixel, z_pixel = int(x * scale_xz), int(z * scale_xz)\n",
    "            radius_pixel = int(radius * scale_r)\n",
    "\n",
    "            # 绘制圆形\n",
    "            draw.ellipse((x_pixel - radius_pixel, z_pixel - radius_pixel,\n",
    "                          x_pixel + radius_pixel, z_pixel + radius_pixel),\n",
    "                         fill=gray_value)\n",
    "\n",
    "    # 保存图像\n",
    "    img.save(f'F:/cv/new images/zall images/{i+1}.png')\n"
   ]
  }
 ],
 "metadata": {
  "kernelspec": {
   "display_name": "py3.9",
   "language": "python",
   "name": "chemdev2"
  },
  "language_info": {
   "codemirror_mode": {
    "name": "ipython",
    "version": 3
   },
   "file_extension": ".py",
   "mimetype": "text/x-python",
   "name": "python",
   "nbconvert_exporter": "python",
   "pygments_lexer": "ipython3",
   "version": "3.7.0"
  }
 },
 "nbformat": 4,
 "nbformat_minor": 5
}
